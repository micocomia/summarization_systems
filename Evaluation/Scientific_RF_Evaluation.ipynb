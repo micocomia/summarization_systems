{
 "cells": [
  {
   "cell_type": "code",
   "execution_count": null,
   "id": "32602fef",
   "metadata": {},
   "outputs": [],
   "source": [
    "import pandas as pd\n",
    "import joblib\n",
    "import nltk\n",
    "from nltk.tokenize import sent_tokenize\n",
    "from bert_score import score\n",
    "\n",
    "nltk.download(\"punkt\")\n"
   ]
  },
  {
   "cell_type": "code",
   "execution_count": null,
   "id": "82e24781",
   "metadata": {},
   "outputs": [],
   "source": [
    "# Load data (must contain 'text' and 'summaries' columns)\n",
    "df = pd.read_csv(\"cleaned_scientific_dataset.csv\")\n",
    "df = df.dropna(subset=[\"text\", \"summaries\"]).reset_index(drop=True)\n",
    "df_sample = df.sample(n=20, random_state=42)\n"
   ]
  },
  {
   "cell_type": "code",
   "execution_count": null,
   "id": "73bedb36",
   "metadata": {},
   "outputs": [],
   "source": [
    "# Load trained Random Forest model and TF-IDF vectorizer\n",
    "model = joblib.load(\"random_forest_summary_model.joblib\")\n",
    "vectorizer = joblib.load(\"tfidf_vectorizer.joblib\")\n"
   ]
  },
  {
   "cell_type": "code",
   "execution_count": null,
   "id": "e478a17f",
   "metadata": {},
   "outputs": [],
   "source": [
    "# Define extractive summarization function\n",
    "def summarize_with_rf(article, model, vectorizer, top_k=None):\n",
    "    sentences = sent_tokenize(article)\n",
    "    if not sentences:\n",
    "        return \"\"\n",
    "    \n",
    "    X = vectorizer.transform(sentences)\n",
    "    preds = model.predict(X)\n",
    "    \n",
    "    selected = [s for s, p in zip(sentences, preds) if p == 1]\n",
    "    if top_k:\n",
    "        selected = selected[:top_k]\n",
    "    \n",
    "    return \" \".join(selected)\n"
   ]
  },
  {
   "cell_type": "code",
   "execution_count": null,
   "id": "f608f6bf",
   "metadata": {},
   "outputs": [],
   "source": [
    "# Generate summaries and prepare for evaluation\n",
    "generated = []\n",
    "references = []\n",
    "\n",
    "for _, row in df_sample.iterrows():\n",
    "    ref = row['summaries']\n",
    "    article = row['text']\n",
    "    summary = summarize_with_rf(article, model, vectorizer)\n",
    "    \n",
    "    if summary.strip():\n",
    "        generated.append(summary)\n",
    "        references.append(ref)\n"
   ]
  },
  {
   "cell_type": "code",
   "execution_count": null,
   "id": "b04b213c",
   "metadata": {},
   "outputs": [],
   "source": [
    "# Evaluate using BERTScore\n",
    "P, R, F1 = score(generated, references, lang=\"en\", verbose=True)\n",
    "\n",
    "print(\"\\n🧪 BERTScore Results:\")\n",
    "print(f\"Precision: {P.mean():.4f}\")\n",
    "print(f\"Recall:    {R.mean():.4f}\")\n",
    "print(f\"F1 Score:  {F1.mean():.4f}\")\n"
   ]
  }
 ],
 "metadata": {
  "kernelspec": {
   "display_name": ".venv",
   "language": "python",
   "name": "python3"
  },
  "language_info": {
   "codemirror_mode": {
    "name": "ipython",
    "version": 3
   },
   "file_extension": ".py",
   "mimetype": "text/x-python",
   "name": "python",
   "nbconvert_exporter": "python",
   "pygments_lexer": "ipython3",
   "version": "3.13.2"
  }
 },
 "nbformat": 4,
 "nbformat_minor": 2
}
