{
 "cells": [
  {
   "cell_type": "code",
   "execution_count": 1,
   "id": "2b8a5c13-b8a5-4574-be25-252f0d8b8ff8",
   "metadata": {},
   "outputs": [],
   "source": [
    "import os\n",
    "import sys\n",
    "import pandas as pd\n",
    "import numpy as np\n",
    "import warnings\n",
    "\n",
    "from tqdm.notebook import tqdm\n",
    "from evaluate import load\n",
    "from pathlib import Path\n",
    "\n",
    "warnings.filterwarnings('ignore')\n",
    "warnings.filterwarnings(action='once')"
   ]
  },
  {
   "cell_type": "code",
   "execution_count": 2,
   "id": "696ccdb7-bf06-404f-867f-bd757f719f52",
   "metadata": {},
   "outputs": [],
   "source": [
    "module_path = os.path.abspath(os.path.join('..','src'))\n",
    "\n",
    "if module_path not in sys.path:\n",
    "    sys.path.append(module_path)\n",
    "\n",
    "from vector_store import VectorStore\n",
    "from retrieval import RetrievalSystem\n",
    "from abstractive_summarizer import AbstractiveSummarizer"
   ]
  },
  {
   "cell_type": "markdown",
   "id": "1654e7e4-ff5c-43da-9415-769be4bebba1",
   "metadata": {},
   "source": [
    "### Helper Functions"
   ]
  },
  {
   "cell_type": "code",
   "execution_count": 3,
   "id": "2eba7d04-df0d-4a39-8578-0a25513a6c67",
   "metadata": {},
   "outputs": [],
   "source": [
    "def setup_summarizer(persist_directory=\"eval_chroma_data\"):\n",
    "    \"\"\"Set up the summarization pipeline with vector store and retrieval system.\"\"\"\n",
    "    # Initialize vector store\n",
    "    vector_store = VectorStore(\n",
    "        collection_name=\"eval_collection\",\n",
    "        persist_directory=persist_directory\n",
    "    )\n",
    "    \n",
    "    vector_store.clear()\n",
    "    \n",
    "    retrieval_system = RetrievalSystem(vector_store=vector_store)\n",
    "    \n",
    "    summarizer = AbstractiveSummarizer(\n",
    "        retrieval_system=retrieval_system,\n",
    "        use_ollama=True  # \n",
    "    )\n",
    "    \n",
    "    return {\n",
    "        \"vector_store\": vector_store,\n",
    "        \"retrieval_system\": retrieval_system,\n",
    "        \"summarizer\": summarizer\n",
    "    }"
   ]
  },
  {
   "cell_type": "code",
   "execution_count": 4,
   "id": "a0638af4-1788-40f1-a26c-7b5f9b64c1fe",
   "metadata": {},
   "outputs": [],
   "source": [
    "def add_document_for_summarization(text, vector_store, embedding_model):\n",
    "    \"\"\"Add a document to the vector store for summarization.\"\"\"\n",
    "    # Clear previous documents\n",
    "    vector_store.clear()\n",
    "    \n",
    "    # Create embedding for the document\n",
    "    embedding = embedding_model.encode(text, show_progress_bar=False)\n",
    "    \n",
    "    # Prepare document metadata\n",
    "    document = {\n",
    "        \"embedding\": embedding,\n",
    "        \"content\": text,\n",
    "        \"metadata\": {\n",
    "            \"source\": \"evaluation_document\",\n",
    "            \"chunk_id\": \"1\",\n",
    "            \"topics\": [\"evaluation\"]\n",
    "        }\n",
    "    }\n",
    "    \n",
    "    # Add to vector store\n",
    "    vector_store.add_documents([document])\n",
    "    \n",
    "    return True"
   ]
  },
  {
   "cell_type": "code",
   "execution_count": 5,
   "id": "12043322-c0b0-443b-acee-6789ab7a5f5b",
   "metadata": {},
   "outputs": [],
   "source": [
    "def generate_summary(text, components, length=\"medium\"):\n",
    "    \"\"\"Generate a summary for a single text document.\"\"\"\n",
    "    # Add the document to the vector store\n",
    "    add_document_for_summarization(\n",
    "        text=text,\n",
    "        vector_store=components[\"vector_store\"],\n",
    "        embedding_model=components[\"retrieval_system\"].embedding_model\n",
    "    )\n",
    "    \n",
    "    # Generate summary\n",
    "    summary_result = components[\"summarizer\"].generate_summary(length=length)\n",
    "    \n",
    "    return summary_result[\"summary\"]"
   ]
  },
  {
   "cell_type": "code",
   "execution_count": 6,
   "id": "c85f6f8e-2f01-406b-a772-709abcd26059",
   "metadata": {},
   "outputs": [],
   "source": [
    "def evaluate_with_bert_score(generated_summaries, reference_summaries):\n",
    "    \"\"\"Calculate BERT Score for generated summaries against references.\"\"\"\n",
    "    bertscore = load(\"bertscore\")\n",
    "    \n",
    "    # Calculate BERT Score\n",
    "    scores = bertscore.compute(\n",
    "        predictions=generated_summaries, \n",
    "        references=reference_summaries, \n",
    "        lang=\"en\", \n",
    "        verbose=True\n",
    "    )\n",
    "    \n",
    "    # Convert to numpy for easier handling\n",
    "    precision = np.array(scores['precision'])\n",
    "    recall = np.array(scores['recall'])\n",
    "    f1 = np.array(scores['f1'])\n",
    "    \n",
    "    return {\n",
    "        \"precision\": precision,\n",
    "        \"recall\": recall,\n",
    "        \"f1\": f1,\n",
    "        \"mean_precision\": precision.mean(),\n",
    "        \"mean_recall\": recall.mean(),\n",
    "        \"mean_f1\": f1.mean()\n",
    "    }"
   ]
  },
  {
   "cell_type": "code",
   "execution_count": 7,
   "id": "31e45628-69a1-4e45-8804-f8b65b4cefa7",
   "metadata": {},
   "outputs": [],
   "source": [
    "def evaluate_summarizer(df, text_column, reference_column, summary_length=\"medium\"):\n",
    "    # Set up summarizer components\n",
    "    components = setup_summarizer()\n",
    "    \n",
    "    # Create a new column for generated summaries\n",
    "    df['Generated Summaries'] = None\n",
    "    \n",
    "    # Generate summaries for each row\n",
    "    print(\"Generating summaries...\")\n",
    "    for i, row in tqdm(df.iterrows(), total=len(df)):\n",
    "        text = row[text_column]\n",
    "        \n",
    "        # Generate summary for this text\n",
    "        generated_summary = generate_summary(\n",
    "            text=text,\n",
    "            components=components,\n",
    "            length=summary_length\n",
    "        )\n",
    "        \n",
    "        # Store the generated summary\n",
    "        df.at[i, 'Generated Summaries'] = generated_summary\n",
    "    \n",
    "    # Evaluate using BERT Score\n",
    "    print(\"Calculating BERT Score...\")\n",
    "    bert_scores = evaluate_with_bert_score(\n",
    "        generated_summaries=df['Generated Summaries'].tolist(),\n",
    "        reference_summaries=df[reference_column].tolist()\n",
    "    )\n",
    "    \n",
    "    # Add scores to the dataframe\n",
    "    df['bert_precision'] = bert_scores['precision']\n",
    "    df['bert_recall'] = bert_scores['recall']\n",
    "    df['bert_f1'] = bert_scores['f1']\n",
    "    \n",
    "    # Print average scores\n",
    "    print(f\"Average BERT Score Precision: {bert_scores['mean_precision']:.4f}\")\n",
    "    print(f\"Average BERT Score Recall: {bert_scores['mean_recall']:.4f}\")\n",
    "    print(f\"Average BERT Score F1: {bert_scores['mean_f1']:.4f}\")\n",
    "    \n",
    "    return df"
   ]
  },
  {
   "cell_type": "markdown",
   "id": "ab214815-647d-4e60-a257-901da729eddb",
   "metadata": {},
   "source": [
    "## Evaluation on BBC Dataset\n",
    "https://www.kaggle.com/datasets/pariza/bbc-news-summary\n",
    "\n",
    "---"
   ]
  },
  {
   "cell_type": "code",
   "execution_count": 3,
   "id": "bb844e1f-9b73-4592-9bad-87a7446da269",
   "metadata": {},
   "outputs": [],
   "source": [
    "topics = ['business','entertainment','politics','sport','tech']\n",
    "news_article_dir = 'test_data/bbc/News Articles/'\n",
    "summaries_dir = 'test_data/bbc/Summaries/'"
   ]
  },
  {
   "cell_type": "code",
   "execution_count": 4,
   "id": "1496e30c-6ffd-4af8-9ed5-7d083760d130",
   "metadata": {},
   "outputs": [],
   "source": [
    "# Get 5 samples per category\n",
    "articles = []\n",
    "summaries = []\n",
    "\n",
    "for topic in topics:\n",
    "    for i in range(5):\n",
    "        art_path = os.path.join(news_article_dir,f'{topic}/00{i+1}.txt')\n",
    "        sum_path = os.path.join(summaries_dir,f'{topic}/00{i+1}.txt')\n",
    "\n",
    "        articles.append(Path(art_path).read_text())\n",
    "        summaries.append(Path(sum_path).read_text())"
   ]
  },
  {
   "cell_type": "code",
   "execution_count": 5,
   "id": "ea34155a-e695-4664-a210-59abfa7b9164",
   "metadata": {},
   "outputs": [
    {
     "data": {
      "text/html": [
       "<div>\n",
       "<style scoped>\n",
       "    .dataframe tbody tr th:only-of-type {\n",
       "        vertical-align: middle;\n",
       "    }\n",
       "\n",
       "    .dataframe tbody tr th {\n",
       "        vertical-align: top;\n",
       "    }\n",
       "\n",
       "    .dataframe thead th {\n",
       "        text-align: right;\n",
       "    }\n",
       "</style>\n",
       "<table border=\"1\" class=\"dataframe\">\n",
       "  <thead>\n",
       "    <tr style=\"text-align: right;\">\n",
       "      <th></th>\n",
       "      <th>text</th>\n",
       "      <th>summary</th>\n",
       "    </tr>\n",
       "  </thead>\n",
       "  <tbody>\n",
       "    <tr>\n",
       "      <th>0</th>\n",
       "      <td>Ad sales boost Time Warner profit\\n\\nQuarterly...</td>\n",
       "      <td>TimeWarner said fourth quarter sales rose 2% t...</td>\n",
       "    </tr>\n",
       "    <tr>\n",
       "      <th>1</th>\n",
       "      <td>Dollar gains on Greenspan speech\\n\\nThe dollar...</td>\n",
       "      <td>The dollar has hit its highest level against t...</td>\n",
       "    </tr>\n",
       "    <tr>\n",
       "      <th>2</th>\n",
       "      <td>Yukos unit buyer faces loan claim\\n\\nThe owner...</td>\n",
       "      <td>Yukos' owner Menatep Group says it will ask Ro...</td>\n",
       "    </tr>\n",
       "    <tr>\n",
       "      <th>3</th>\n",
       "      <td>High fuel prices hit BA's profits\\n\\nBritish A...</td>\n",
       "      <td>Rod Eddington, BA's chief executive, said the ...</td>\n",
       "    </tr>\n",
       "    <tr>\n",
       "      <th>4</th>\n",
       "      <td>Pernod takeover talk lifts Domecq\\n\\nShares in...</td>\n",
       "      <td>Pernod has reduced the debt it took on to fund...</td>\n",
       "    </tr>\n",
       "  </tbody>\n",
       "</table>\n",
       "</div>"
      ],
      "text/plain": [
       "                                                text  \\\n",
       "0  Ad sales boost Time Warner profit\\n\\nQuarterly...   \n",
       "1  Dollar gains on Greenspan speech\\n\\nThe dollar...   \n",
       "2  Yukos unit buyer faces loan claim\\n\\nThe owner...   \n",
       "3  High fuel prices hit BA's profits\\n\\nBritish A...   \n",
       "4  Pernod takeover talk lifts Domecq\\n\\nShares in...   \n",
       "\n",
       "                                             summary  \n",
       "0  TimeWarner said fourth quarter sales rose 2% t...  \n",
       "1  The dollar has hit its highest level against t...  \n",
       "2  Yukos' owner Menatep Group says it will ask Ro...  \n",
       "3  Rod Eddington, BA's chief executive, said the ...  \n",
       "4  Pernod has reduced the debt it took on to fund...  "
      ]
     },
     "execution_count": 5,
     "metadata": {},
     "output_type": "execute_result"
    }
   ],
   "source": [
    "news_df = pd.DataFrame(list(zip(articles,summaries)), columns = ['text','summary'])\n",
    "news_df.head(5)"
   ]
  },
  {
   "cell_type": "code",
   "execution_count": 6,
   "id": "80df791e-8431-4c0b-ac86-f7bc0d61bb95",
   "metadata": {},
   "outputs": [],
   "source": [
    "news_df.to_csv('test_data/news_test.csv',index=False)"
   ]
  },
  {
   "cell_type": "code",
   "execution_count": 15,
   "id": "f5887791-4919-4b08-bcf3-96aecd129c46",
   "metadata": {},
   "outputs": [
    {
     "data": {
      "text/html": [
       "<div>\n",
       "<style scoped>\n",
       "    .dataframe tbody tr th:only-of-type {\n",
       "        vertical-align: middle;\n",
       "    }\n",
       "\n",
       "    .dataframe tbody tr th {\n",
       "        vertical-align: top;\n",
       "    }\n",
       "\n",
       "    .dataframe thead th {\n",
       "        text-align: right;\n",
       "    }\n",
       "</style>\n",
       "<table border=\"1\" class=\"dataframe\">\n",
       "  <thead>\n",
       "    <tr style=\"text-align: right;\">\n",
       "      <th></th>\n",
       "      <th>text</th>\n",
       "      <th>summary</th>\n",
       "    </tr>\n",
       "  </thead>\n",
       "  <tbody>\n",
       "    <tr>\n",
       "      <th>0</th>\n",
       "      <td>Ad sales boost Time Warner profit\\n\\nQuarterly...</td>\n",
       "      <td>TimeWarner said fourth quarter sales rose 2% t...</td>\n",
       "    </tr>\n",
       "    <tr>\n",
       "      <th>1</th>\n",
       "      <td>Dollar gains on Greenspan speech\\n\\nThe dollar...</td>\n",
       "      <td>The dollar has hit its highest level against t...</td>\n",
       "    </tr>\n",
       "    <tr>\n",
       "      <th>2</th>\n",
       "      <td>Yukos unit buyer faces loan claim\\n\\nThe owner...</td>\n",
       "      <td>Yukos' owner Menatep Group says it will ask Ro...</td>\n",
       "    </tr>\n",
       "    <tr>\n",
       "      <th>3</th>\n",
       "      <td>High fuel prices hit BA's profits\\n\\nBritish A...</td>\n",
       "      <td>Rod Eddington, BA's chief executive, said the ...</td>\n",
       "    </tr>\n",
       "    <tr>\n",
       "      <th>4</th>\n",
       "      <td>Pernod takeover talk lifts Domecq\\n\\nShares in...</td>\n",
       "      <td>Pernod has reduced the debt it took on to fund...</td>\n",
       "    </tr>\n",
       "  </tbody>\n",
       "</table>\n",
       "</div>"
      ],
      "text/plain": [
       "                                                text  \\\n",
       "0  Ad sales boost Time Warner profit\\n\\nQuarterly...   \n",
       "1  Dollar gains on Greenspan speech\\n\\nThe dollar...   \n",
       "2  Yukos unit buyer faces loan claim\\n\\nThe owner...   \n",
       "3  High fuel prices hit BA's profits\\n\\nBritish A...   \n",
       "4  Pernod takeover talk lifts Domecq\\n\\nShares in...   \n",
       "\n",
       "                                             summary  \n",
       "0  TimeWarner said fourth quarter sales rose 2% t...  \n",
       "1  The dollar has hit its highest level against t...  \n",
       "2  Yukos' owner Menatep Group says it will ask Ro...  \n",
       "3  Rod Eddington, BA's chief executive, said the ...  \n",
       "4  Pernod has reduced the debt it took on to fund...  "
      ]
     },
     "execution_count": 15,
     "metadata": {},
     "output_type": "execute_result"
    }
   ],
   "source": [
    "news_df = pd.read_csv('test_data/news_test.csv',index_col=False)\n",
    "news_df.head(5)"
   ]
  },
  {
   "cell_type": "code",
   "execution_count": 11,
   "id": "b559e2f8-9773-45d1-ae08-dd0e1a4e62f4",
   "metadata": {
    "scrolled": true
   },
   "outputs": [
    {
     "name": "stdout",
     "output_type": "stream",
     "text": [
      "Loaded existing collection 'eval_collection' with 1 documents\n",
      "Cleared collection 'eval_collection'\n",
      "Generating summaries...\n"
     ]
    },
    {
     "data": {
      "application/vnd.jupyter.widget-view+json": {
       "model_id": "dfa7abbf23724fd1a2f91062927a2021",
       "version_major": 2,
       "version_minor": 0
      },
      "text/plain": [
       "  0%|          | 0/25 [00:00<?, ?it/s]"
      ]
     },
     "metadata": {},
     "output_type": "display_data"
    },
    {
     "name": "stderr",
     "output_type": "stream",
     "text": [
      "Number of requested results 50 is greater than number of elements in index 1, updating n_results = 1\n"
     ]
    },
    {
     "name": "stdout",
     "output_type": "stream",
     "text": [
      "Cleared collection 'eval_collection'\n",
      "Added 1 documents to ChromaDB collection\n"
     ]
    },
    {
     "name": "stderr",
     "output_type": "stream",
     "text": [
      "Number of requested results 50 is greater than number of elements in index 1, updating n_results = 1\n",
      "Number of requested results 50 is greater than number of elements in index 1, updating n_results = 1\n",
      "Number of requested results 50 is greater than number of elements in index 1, updating n_results = 1\n",
      "Number of requested results 50 is greater than number of elements in index 1, updating n_results = 1\n",
      "Number of requested results 50 is greater than number of elements in index 1, updating n_results = 1\n",
      "Number of requested results 50 is greater than number of elements in index 1, updating n_results = 1\n",
      "Number of requested results 50 is greater than number of elements in index 1, updating n_results = 1\n",
      "Number of requested results 50 is greater than number of elements in index 1, updating n_results = 1\n",
      "Number of requested results 50 is greater than number of elements in index 1, updating n_results = 1\n"
     ]
    },
    {
     "name": "stdout",
     "output_type": "stream",
     "text": [
      "Cleared collection 'eval_collection'\n",
      "Added 1 documents to ChromaDB collection\n"
     ]
    },
    {
     "name": "stderr",
     "output_type": "stream",
     "text": [
      "Number of requested results 50 is greater than number of elements in index 1, updating n_results = 1\n",
      "Number of requested results 50 is greater than number of elements in index 1, updating n_results = 1\n",
      "Number of requested results 50 is greater than number of elements in index 1, updating n_results = 1\n",
      "Number of requested results 50 is greater than number of elements in index 1, updating n_results = 1\n",
      "Number of requested results 50 is greater than number of elements in index 1, updating n_results = 1\n"
     ]
    },
    {
     "name": "stdout",
     "output_type": "stream",
     "text": [
      "Cleared collection 'eval_collection'\n",
      "Added 1 documents to ChromaDB collection\n"
     ]
    },
    {
     "name": "stderr",
     "output_type": "stream",
     "text": [
      "Number of requested results 50 is greater than number of elements in index 1, updating n_results = 1\n",
      "Number of requested results 50 is greater than number of elements in index 1, updating n_results = 1\n",
      "Number of requested results 50 is greater than number of elements in index 1, updating n_results = 1\n",
      "Number of requested results 50 is greater than number of elements in index 1, updating n_results = 1\n",
      "Number of requested results 50 is greater than number of elements in index 1, updating n_results = 1\n"
     ]
    },
    {
     "name": "stdout",
     "output_type": "stream",
     "text": [
      "Cleared collection 'eval_collection'\n",
      "Added 1 documents to ChromaDB collection\n"
     ]
    },
    {
     "name": "stderr",
     "output_type": "stream",
     "text": [
      "Number of requested results 50 is greater than number of elements in index 1, updating n_results = 1\n",
      "Number of requested results 50 is greater than number of elements in index 1, updating n_results = 1\n"
     ]
    },
    {
     "name": "stdout",
     "output_type": "stream",
     "text": [
      "Cleared collection 'eval_collection'\n",
      "Added 1 documents to ChromaDB collection\n"
     ]
    },
    {
     "name": "stderr",
     "output_type": "stream",
     "text": [
      "Number of requested results 50 is greater than number of elements in index 1, updating n_results = 1\n",
      "Number of requested results 50 is greater than number of elements in index 1, updating n_results = 1\n",
      "Number of requested results 50 is greater than number of elements in index 1, updating n_results = 1\n",
      "Number of requested results 50 is greater than number of elements in index 1, updating n_results = 1\n",
      "Number of requested results 50 is greater than number of elements in index 1, updating n_results = 1\n",
      "Number of requested results 50 is greater than number of elements in index 1, updating n_results = 1\n",
      "Number of requested results 50 is greater than number of elements in index 1, updating n_results = 1\n",
      "Number of requested results 50 is greater than number of elements in index 1, updating n_results = 1\n"
     ]
    },
    {
     "name": "stdout",
     "output_type": "stream",
     "text": [
      "Cleared collection 'eval_collection'\n",
      "Added 1 documents to ChromaDB collection\n"
     ]
    },
    {
     "name": "stderr",
     "output_type": "stream",
     "text": [
      "Number of requested results 50 is greater than number of elements in index 1, updating n_results = 1\n",
      "Number of requested results 50 is greater than number of elements in index 1, updating n_results = 1\n",
      "Number of requested results 50 is greater than number of elements in index 1, updating n_results = 1\n",
      "Number of requested results 50 is greater than number of elements in index 1, updating n_results = 1\n",
      "Number of requested results 50 is greater than number of elements in index 1, updating n_results = 1\n"
     ]
    },
    {
     "name": "stdout",
     "output_type": "stream",
     "text": [
      "Cleared collection 'eval_collection'\n",
      "Added 1 documents to ChromaDB collection\n"
     ]
    },
    {
     "name": "stderr",
     "output_type": "stream",
     "text": [
      "Number of requested results 50 is greater than number of elements in index 1, updating n_results = 1\n",
      "Number of requested results 50 is greater than number of elements in index 1, updating n_results = 1\n",
      "Number of requested results 50 is greater than number of elements in index 1, updating n_results = 1\n",
      "Number of requested results 50 is greater than number of elements in index 1, updating n_results = 1\n",
      "Number of requested results 50 is greater than number of elements in index 1, updating n_results = 1\n"
     ]
    },
    {
     "name": "stdout",
     "output_type": "stream",
     "text": [
      "Cleared collection 'eval_collection'\n",
      "Added 1 documents to ChromaDB collection\n"
     ]
    },
    {
     "name": "stderr",
     "output_type": "stream",
     "text": [
      "Number of requested results 50 is greater than number of elements in index 1, updating n_results = 1\n",
      "Number of requested results 50 is greater than number of elements in index 1, updating n_results = 1\n",
      "Number of requested results 50 is greater than number of elements in index 1, updating n_results = 1\n",
      "Number of requested results 50 is greater than number of elements in index 1, updating n_results = 1\n",
      "Number of requested results 50 is greater than number of elements in index 1, updating n_results = 1\n"
     ]
    },
    {
     "name": "stdout",
     "output_type": "stream",
     "text": [
      "Cleared collection 'eval_collection'\n",
      "Added 1 documents to ChromaDB collection\n"
     ]
    },
    {
     "name": "stderr",
     "output_type": "stream",
     "text": [
      "Number of requested results 50 is greater than number of elements in index 1, updating n_results = 1\n",
      "Number of requested results 50 is greater than number of elements in index 1, updating n_results = 1\n",
      "Number of requested results 50 is greater than number of elements in index 1, updating n_results = 1\n",
      "Number of requested results 50 is greater than number of elements in index 1, updating n_results = 1\n",
      "Number of requested results 50 is greater than number of elements in index 1, updating n_results = 1\n"
     ]
    },
    {
     "name": "stdout",
     "output_type": "stream",
     "text": [
      "Cleared collection 'eval_collection'\n",
      "Added 1 documents to ChromaDB collection\n"
     ]
    },
    {
     "name": "stderr",
     "output_type": "stream",
     "text": [
      "Number of requested results 50 is greater than number of elements in index 1, updating n_results = 1\n",
      "Number of requested results 50 is greater than number of elements in index 1, updating n_results = 1\n",
      "Number of requested results 50 is greater than number of elements in index 1, updating n_results = 1\n",
      "Number of requested results 50 is greater than number of elements in index 1, updating n_results = 1\n",
      "Number of requested results 50 is greater than number of elements in index 1, updating n_results = 1\n"
     ]
    },
    {
     "name": "stdout",
     "output_type": "stream",
     "text": [
      "Cleared collection 'eval_collection'\n",
      "Added 1 documents to ChromaDB collection\n"
     ]
    },
    {
     "name": "stderr",
     "output_type": "stream",
     "text": [
      "Number of requested results 50 is greater than number of elements in index 1, updating n_results = 1\n",
      "Number of requested results 50 is greater than number of elements in index 1, updating n_results = 1\n",
      "Number of requested results 50 is greater than number of elements in index 1, updating n_results = 1\n",
      "Number of requested results 50 is greater than number of elements in index 1, updating n_results = 1\n",
      "Number of requested results 50 is greater than number of elements in index 1, updating n_results = 1\n"
     ]
    },
    {
     "name": "stdout",
     "output_type": "stream",
     "text": [
      "Cleared collection 'eval_collection'\n",
      "Added 1 documents to ChromaDB collection\n"
     ]
    },
    {
     "name": "stderr",
     "output_type": "stream",
     "text": [
      "Number of requested results 50 is greater than number of elements in index 1, updating n_results = 1\n",
      "Number of requested results 50 is greater than number of elements in index 1, updating n_results = 1\n",
      "Number of requested results 50 is greater than number of elements in index 1, updating n_results = 1\n",
      "Number of requested results 50 is greater than number of elements in index 1, updating n_results = 1\n",
      "Number of requested results 50 is greater than number of elements in index 1, updating n_results = 1\n"
     ]
    },
    {
     "name": "stdout",
     "output_type": "stream",
     "text": [
      "Cleared collection 'eval_collection'\n",
      "Added 1 documents to ChromaDB collection\n"
     ]
    },
    {
     "name": "stderr",
     "output_type": "stream",
     "text": [
      "Number of requested results 50 is greater than number of elements in index 1, updating n_results = 1\n",
      "Number of requested results 50 is greater than number of elements in index 1, updating n_results = 1\n",
      "Number of requested results 50 is greater than number of elements in index 1, updating n_results = 1\n",
      "Number of requested results 50 is greater than number of elements in index 1, updating n_results = 1\n",
      "Number of requested results 50 is greater than number of elements in index 1, updating n_results = 1\n"
     ]
    },
    {
     "name": "stdout",
     "output_type": "stream",
     "text": [
      "Cleared collection 'eval_collection'\n",
      "Added 1 documents to ChromaDB collection\n"
     ]
    },
    {
     "name": "stderr",
     "output_type": "stream",
     "text": [
      "Number of requested results 50 is greater than number of elements in index 1, updating n_results = 1\n",
      "Number of requested results 50 is greater than number of elements in index 1, updating n_results = 1\n",
      "Number of requested results 50 is greater than number of elements in index 1, updating n_results = 1\n",
      "Number of requested results 50 is greater than number of elements in index 1, updating n_results = 1\n",
      "Number of requested results 50 is greater than number of elements in index 1, updating n_results = 1\n"
     ]
    },
    {
     "name": "stdout",
     "output_type": "stream",
     "text": [
      "Cleared collection 'eval_collection'\n",
      "Added 1 documents to ChromaDB collection\n"
     ]
    },
    {
     "name": "stderr",
     "output_type": "stream",
     "text": [
      "Number of requested results 50 is greater than number of elements in index 1, updating n_results = 1\n",
      "Number of requested results 50 is greater than number of elements in index 1, updating n_results = 1\n",
      "Number of requested results 50 is greater than number of elements in index 1, updating n_results = 1\n",
      "Number of requested results 50 is greater than number of elements in index 1, updating n_results = 1\n",
      "Number of requested results 50 is greater than number of elements in index 1, updating n_results = 1\n"
     ]
    },
    {
     "name": "stdout",
     "output_type": "stream",
     "text": [
      "Cleared collection 'eval_collection'\n",
      "Added 1 documents to ChromaDB collection\n"
     ]
    },
    {
     "name": "stderr",
     "output_type": "stream",
     "text": [
      "Number of requested results 50 is greater than number of elements in index 1, updating n_results = 1\n",
      "Number of requested results 50 is greater than number of elements in index 1, updating n_results = 1\n",
      "Number of requested results 50 is greater than number of elements in index 1, updating n_results = 1\n",
      "Number of requested results 50 is greater than number of elements in index 1, updating n_results = 1\n",
      "Number of requested results 50 is greater than number of elements in index 1, updating n_results = 1\n"
     ]
    },
    {
     "name": "stdout",
     "output_type": "stream",
     "text": [
      "Cleared collection 'eval_collection'\n",
      "Added 1 documents to ChromaDB collection\n"
     ]
    },
    {
     "name": "stderr",
     "output_type": "stream",
     "text": [
      "Number of requested results 50 is greater than number of elements in index 1, updating n_results = 1\n",
      "Number of requested results 50 is greater than number of elements in index 1, updating n_results = 1\n",
      "Number of requested results 50 is greater than number of elements in index 1, updating n_results = 1\n",
      "Number of requested results 50 is greater than number of elements in index 1, updating n_results = 1\n",
      "Number of requested results 50 is greater than number of elements in index 1, updating n_results = 1\n"
     ]
    },
    {
     "name": "stdout",
     "output_type": "stream",
     "text": [
      "Cleared collection 'eval_collection'\n",
      "Added 1 documents to ChromaDB collection\n"
     ]
    },
    {
     "name": "stderr",
     "output_type": "stream",
     "text": [
      "Number of requested results 50 is greater than number of elements in index 1, updating n_results = 1\n",
      "Number of requested results 50 is greater than number of elements in index 1, updating n_results = 1\n",
      "Number of requested results 50 is greater than number of elements in index 1, updating n_results = 1\n",
      "Number of requested results 50 is greater than number of elements in index 1, updating n_results = 1\n",
      "Number of requested results 50 is greater than number of elements in index 1, updating n_results = 1\n"
     ]
    },
    {
     "name": "stdout",
     "output_type": "stream",
     "text": [
      "Cleared collection 'eval_collection'\n",
      "Added 1 documents to ChromaDB collection\n"
     ]
    },
    {
     "name": "stderr",
     "output_type": "stream",
     "text": [
      "Number of requested results 50 is greater than number of elements in index 1, updating n_results = 1\n",
      "Number of requested results 50 is greater than number of elements in index 1, updating n_results = 1\n",
      "Number of requested results 50 is greater than number of elements in index 1, updating n_results = 1\n",
      "Number of requested results 50 is greater than number of elements in index 1, updating n_results = 1\n",
      "Number of requested results 50 is greater than number of elements in index 1, updating n_results = 1\n"
     ]
    },
    {
     "name": "stdout",
     "output_type": "stream",
     "text": [
      "Cleared collection 'eval_collection'\n",
      "Added 1 documents to ChromaDB collection\n"
     ]
    },
    {
     "name": "stderr",
     "output_type": "stream",
     "text": [
      "Number of requested results 50 is greater than number of elements in index 1, updating n_results = 1\n",
      "Number of requested results 50 is greater than number of elements in index 1, updating n_results = 1\n",
      "Number of requested results 50 is greater than number of elements in index 1, updating n_results = 1\n",
      "Number of requested results 50 is greater than number of elements in index 1, updating n_results = 1\n",
      "Number of requested results 50 is greater than number of elements in index 1, updating n_results = 1\n"
     ]
    },
    {
     "name": "stdout",
     "output_type": "stream",
     "text": [
      "Cleared collection 'eval_collection'\n",
      "Added 1 documents to ChromaDB collection\n"
     ]
    },
    {
     "name": "stderr",
     "output_type": "stream",
     "text": [
      "Number of requested results 50 is greater than number of elements in index 1, updating n_results = 1\n",
      "Number of requested results 50 is greater than number of elements in index 1, updating n_results = 1\n",
      "Number of requested results 50 is greater than number of elements in index 1, updating n_results = 1\n",
      "Number of requested results 50 is greater than number of elements in index 1, updating n_results = 1\n",
      "Number of requested results 50 is greater than number of elements in index 1, updating n_results = 1\n"
     ]
    },
    {
     "name": "stdout",
     "output_type": "stream",
     "text": [
      "Cleared collection 'eval_collection'\n",
      "Added 1 documents to ChromaDB collection\n"
     ]
    },
    {
     "name": "stderr",
     "output_type": "stream",
     "text": [
      "Number of requested results 50 is greater than number of elements in index 1, updating n_results = 1\n",
      "Number of requested results 50 is greater than number of elements in index 1, updating n_results = 1\n",
      "Number of requested results 50 is greater than number of elements in index 1, updating n_results = 1\n",
      "Number of requested results 50 is greater than number of elements in index 1, updating n_results = 1\n",
      "Number of requested results 50 is greater than number of elements in index 1, updating n_results = 1\n"
     ]
    },
    {
     "name": "stdout",
     "output_type": "stream",
     "text": [
      "Cleared collection 'eval_collection'\n",
      "Added 1 documents to ChromaDB collection\n"
     ]
    },
    {
     "name": "stderr",
     "output_type": "stream",
     "text": [
      "Number of requested results 50 is greater than number of elements in index 1, updating n_results = 1\n",
      "Number of requested results 50 is greater than number of elements in index 1, updating n_results = 1\n",
      "Number of requested results 50 is greater than number of elements in index 1, updating n_results = 1\n",
      "Number of requested results 50 is greater than number of elements in index 1, updating n_results = 1\n",
      "Number of requested results 50 is greater than number of elements in index 1, updating n_results = 1\n"
     ]
    },
    {
     "name": "stdout",
     "output_type": "stream",
     "text": [
      "Cleared collection 'eval_collection'\n",
      "Added 1 documents to ChromaDB collection\n"
     ]
    },
    {
     "name": "stderr",
     "output_type": "stream",
     "text": [
      "Number of requested results 50 is greater than number of elements in index 1, updating n_results = 1\n",
      "Number of requested results 50 is greater than number of elements in index 1, updating n_results = 1\n",
      "Number of requested results 50 is greater than number of elements in index 1, updating n_results = 1\n",
      "Number of requested results 50 is greater than number of elements in index 1, updating n_results = 1\n",
      "Number of requested results 50 is greater than number of elements in index 1, updating n_results = 1\n"
     ]
    },
    {
     "name": "stdout",
     "output_type": "stream",
     "text": [
      "Cleared collection 'eval_collection'\n",
      "Added 1 documents to ChromaDB collection\n",
      "Calculating BERT Score...\n"
     ]
    },
    {
     "name": "stderr",
     "output_type": "stream",
     "text": [
      "Some weights of RobertaModel were not initialized from the model checkpoint at roberta-large and are newly initialized: ['roberta.pooler.dense.bias', 'roberta.pooler.dense.weight']\n",
      "You should probably TRAIN this model on a down-stream task to be able to use it for predictions and inference.\n"
     ]
    },
    {
     "name": "stdout",
     "output_type": "stream",
     "text": [
      "calculating scores...\n",
      "computing bert embedding.\n"
     ]
    },
    {
     "data": {
      "application/vnd.jupyter.widget-view+json": {
       "model_id": "ccc27da46c964436b9877eccbd522dfe",
       "version_major": 2,
       "version_minor": 0
      },
      "text/plain": [
       "  0%|          | 0/1 [00:00<?, ?it/s]"
      ]
     },
     "metadata": {},
     "output_type": "display_data"
    },
    {
     "name": "stdout",
     "output_type": "stream",
     "text": [
      "computing greedy matching.\n"
     ]
    },
    {
     "data": {
      "application/vnd.jupyter.widget-view+json": {
       "model_id": "f280a13c54434219b03d1758b972f8de",
       "version_major": 2,
       "version_minor": 0
      },
      "text/plain": [
       "  0%|          | 0/1 [00:00<?, ?it/s]"
      ]
     },
     "metadata": {},
     "output_type": "display_data"
    },
    {
     "name": "stdout",
     "output_type": "stream",
     "text": [
      "done in 375969.62 seconds, 0.00 sentences/sec\n",
      "Average BERT Score Precision: 0.8587\n",
      "Average BERT Score Recall: 0.8803\n",
      "Average BERT Score F1: 0.8692\n"
     ]
    }
   ],
   "source": [
    "news_results = evaluate_summarizer(\n",
    "    df=news_df,\n",
    "    text_column='text',\n",
    "    reference_column='summary', \n",
    "    summary_length='short'\n",
    ")"
   ]
  },
  {
   "cell_type": "code",
   "execution_count": 15,
   "id": "482ce00b-244e-429a-adb4-dcf8962af86c",
   "metadata": {},
   "outputs": [],
   "source": [
    "news_results.to_csv('results/news_abstractive_summarization.csv', index=False)"
   ]
  },
  {
   "cell_type": "markdown",
   "id": "25c66fc0-25b6-4557-ba66-c0922d636a37",
   "metadata": {},
   "source": [
    "- Average BERT Score Precision: 0.8587 (how well the generated tokens are matched/covered by the reference tokens on average.)\n",
    "- Average BERT Score Recall: 0.8803 (how well the reference tokens are covered/matched by the generated tokens on average)\n",
    "- Average BERT Score F1: 0.8692"
   ]
  },
  {
   "cell_type": "markdown",
   "id": "813cf286-7953-4421-8a9f-37dd3972d66a",
   "metadata": {},
   "source": [
    "## Evaluation on SciSumm Dataset\n",
    "https://www.kaggle.com/datasets/jawakar/scisummnet-corpus/data\n",
    "\n",
    "---"
   ]
  },
  {
   "cell_type": "code",
   "execution_count": 11,
   "id": "b2b85a4a-5026-474b-a3f6-362b1ea15cf5",
   "metadata": {},
   "outputs": [],
   "source": [
    "sci_df = pd.read_csv('test_data/scisumm.csv',index_col=False)\n",
    "sci_df = sci_df.head(25)"
   ]
  },
  {
   "cell_type": "code",
   "execution_count": 12,
   "id": "ef581384-a5e2-406b-bb0b-94d9d89c11ea",
   "metadata": {},
   "outputs": [],
   "source": [
    "sci_df.to_csv('test_data/sci_test.csv',index=False)"
   ]
  },
  {
   "cell_type": "code",
   "execution_count": 14,
   "id": "9730f2ab-d31b-4503-aae5-64dbb6eb42ed",
   "metadata": {},
   "outputs": [
    {
     "data": {
      "text/html": [
       "<div>\n",
       "<style scoped>\n",
       "    .dataframe tbody tr th:only-of-type {\n",
       "        vertical-align: middle;\n",
       "    }\n",
       "\n",
       "    .dataframe tbody tr th {\n",
       "        vertical-align: top;\n",
       "    }\n",
       "\n",
       "    .dataframe thead th {\n",
       "        text-align: right;\n",
       "    }\n",
       "</style>\n",
       "<table border=\"1\" class=\"dataframe\">\n",
       "  <thead>\n",
       "    <tr style=\"text-align: right;\">\n",
       "      <th></th>\n",
       "      <th>text</th>\n",
       "      <th>summary</th>\n",
       "    </tr>\n",
       "  </thead>\n",
       "  <tbody>\n",
       "    <tr>\n",
       "      <th>0</th>\n",
       "      <td>TnT - A Statistical Part-Of-Speech Tagger Trig...</td>\n",
       "      <td>TnT - A Statistical Part-Of-Speech Tagger\\nTri...</td>\n",
       "    </tr>\n",
       "    <tr>\n",
       "      <th>1</th>\n",
       "      <td>Mildly Non-Projective Dependency Structures Sy...</td>\n",
       "      <td>Mildly Non-Projective Dependency Structures\\nS...</td>\n",
       "    </tr>\n",
       "    <tr>\n",
       "      <th>2</th>\n",
       "      <td>Using Corpus Statistics And WordNet Relations ...</td>\n",
       "      <td>Using Corpus Statistics And WordNet Relations ...</td>\n",
       "    </tr>\n",
       "    <tr>\n",
       "      <th>3</th>\n",
       "      <td>Automatic Labeling Of Semantic Roles present a...</td>\n",
       "      <td>Automatic Labeling Of Semantic Roles\\nWe prese...</td>\n",
       "    </tr>\n",
       "    <tr>\n",
       "      <th>4</th>\n",
       "      <td>Generative Models For Statistical Parsing With...</td>\n",
       "      <td>Generative Models For Statistical Parsing With...</td>\n",
       "    </tr>\n",
       "  </tbody>\n",
       "</table>\n",
       "</div>"
      ],
      "text/plain": [
       "                                                text  \\\n",
       "0  TnT - A Statistical Part-Of-Speech Tagger Trig...   \n",
       "1  Mildly Non-Projective Dependency Structures Sy...   \n",
       "2  Using Corpus Statistics And WordNet Relations ...   \n",
       "3  Automatic Labeling Of Semantic Roles present a...   \n",
       "4  Generative Models For Statistical Parsing With...   \n",
       "\n",
       "                                             summary  \n",
       "0  TnT - A Statistical Part-Of-Speech Tagger\\nTri...  \n",
       "1  Mildly Non-Projective Dependency Structures\\nS...  \n",
       "2  Using Corpus Statistics And WordNet Relations ...  \n",
       "3  Automatic Labeling Of Semantic Roles\\nWe prese...  \n",
       "4  Generative Models For Statistical Parsing With...  "
      ]
     },
     "execution_count": 14,
     "metadata": {},
     "output_type": "execute_result"
    }
   ],
   "source": [
    "sci_df = pd.read_csv('test_data/sci_test.csv',index_col=False)\n",
    "sci_df.head(5)"
   ]
  },
  {
   "cell_type": "code",
   "execution_count": 17,
   "id": "57175862-6b00-4619-a5eb-bb6292499920",
   "metadata": {},
   "outputs": [
    {
     "name": "stdout",
     "output_type": "stream",
     "text": [
      "Loaded existing collection 'eval_collection' with 1 documents\n",
      "Cleared collection 'eval_collection'\n",
      "Generating summaries...\n"
     ]
    },
    {
     "data": {
      "application/vnd.jupyter.widget-view+json": {
       "model_id": "916a73b33fc84cf4bb4f465f1f137357",
       "version_major": 2,
       "version_minor": 0
      },
      "text/plain": [
       "  0%|          | 0/25 [00:00<?, ?it/s]"
      ]
     },
     "metadata": {},
     "output_type": "display_data"
    },
    {
     "name": "stderr",
     "output_type": "stream",
     "text": [
      "Number of requested results 50 is greater than number of elements in index 1, updating n_results = 1\n",
      "Number of requested results 50 is greater than number of elements in index 1, updating n_results = 1\n",
      "Number of requested results 50 is greater than number of elements in index 1, updating n_results = 1\n",
      "Number of requested results 50 is greater than number of elements in index 1, updating n_results = 1\n",
      "Number of requested results 50 is greater than number of elements in index 1, updating n_results = 1\n"
     ]
    },
    {
     "name": "stdout",
     "output_type": "stream",
     "text": [
      "Cleared collection 'eval_collection'\n",
      "Added 1 documents to ChromaDB collection\n"
     ]
    },
    {
     "name": "stderr",
     "output_type": "stream",
     "text": [
      "Number of requested results 50 is greater than number of elements in index 1, updating n_results = 1\n",
      "Number of requested results 50 is greater than number of elements in index 1, updating n_results = 1\n",
      "Number of requested results 50 is greater than number of elements in index 1, updating n_results = 1\n",
      "Number of requested results 50 is greater than number of elements in index 1, updating n_results = 1\n",
      "Number of requested results 50 is greater than number of elements in index 1, updating n_results = 1\n"
     ]
    },
    {
     "name": "stdout",
     "output_type": "stream",
     "text": [
      "Cleared collection 'eval_collection'\n",
      "Added 1 documents to ChromaDB collection\n"
     ]
    },
    {
     "name": "stderr",
     "output_type": "stream",
     "text": [
      "Number of requested results 50 is greater than number of elements in index 1, updating n_results = 1\n",
      "Number of requested results 50 is greater than number of elements in index 1, updating n_results = 1\n",
      "Number of requested results 50 is greater than number of elements in index 1, updating n_results = 1\n",
      "Number of requested results 50 is greater than number of elements in index 1, updating n_results = 1\n",
      "Number of requested results 50 is greater than number of elements in index 1, updating n_results = 1\n"
     ]
    },
    {
     "name": "stdout",
     "output_type": "stream",
     "text": [
      "Cleared collection 'eval_collection'\n",
      "Added 1 documents to ChromaDB collection\n"
     ]
    },
    {
     "name": "stderr",
     "output_type": "stream",
     "text": [
      "Number of requested results 50 is greater than number of elements in index 1, updating n_results = 1\n",
      "Number of requested results 50 is greater than number of elements in index 1, updating n_results = 1\n",
      "Number of requested results 50 is greater than number of elements in index 1, updating n_results = 1\n",
      "Number of requested results 50 is greater than number of elements in index 1, updating n_results = 1\n",
      "Number of requested results 50 is greater than number of elements in index 1, updating n_results = 1\n"
     ]
    },
    {
     "name": "stdout",
     "output_type": "stream",
     "text": [
      "Cleared collection 'eval_collection'\n",
      "Added 1 documents to ChromaDB collection\n"
     ]
    },
    {
     "name": "stderr",
     "output_type": "stream",
     "text": [
      "Number of requested results 50 is greater than number of elements in index 1, updating n_results = 1\n",
      "Number of requested results 50 is greater than number of elements in index 1, updating n_results = 1\n",
      "Number of requested results 50 is greater than number of elements in index 1, updating n_results = 1\n",
      "Number of requested results 50 is greater than number of elements in index 1, updating n_results = 1\n",
      "Number of requested results 50 is greater than number of elements in index 1, updating n_results = 1\n"
     ]
    },
    {
     "name": "stdout",
     "output_type": "stream",
     "text": [
      "Cleared collection 'eval_collection'\n",
      "Added 1 documents to ChromaDB collection\n"
     ]
    },
    {
     "name": "stderr",
     "output_type": "stream",
     "text": [
      "Number of requested results 50 is greater than number of elements in index 1, updating n_results = 1\n",
      "Number of requested results 50 is greater than number of elements in index 1, updating n_results = 1\n",
      "Number of requested results 50 is greater than number of elements in index 1, updating n_results = 1\n",
      "Number of requested results 50 is greater than number of elements in index 1, updating n_results = 1\n",
      "Number of requested results 50 is greater than number of elements in index 1, updating n_results = 1\n"
     ]
    },
    {
     "name": "stdout",
     "output_type": "stream",
     "text": [
      "Cleared collection 'eval_collection'\n",
      "Added 1 documents to ChromaDB collection\n"
     ]
    },
    {
     "name": "stderr",
     "output_type": "stream",
     "text": [
      "Number of requested results 50 is greater than number of elements in index 1, updating n_results = 1\n",
      "Number of requested results 50 is greater than number of elements in index 1, updating n_results = 1\n",
      "Number of requested results 50 is greater than number of elements in index 1, updating n_results = 1\n",
      "Number of requested results 50 is greater than number of elements in index 1, updating n_results = 1\n",
      "Number of requested results 50 is greater than number of elements in index 1, updating n_results = 1\n"
     ]
    },
    {
     "name": "stdout",
     "output_type": "stream",
     "text": [
      "Cleared collection 'eval_collection'\n",
      "Added 1 documents to ChromaDB collection\n"
     ]
    },
    {
     "name": "stderr",
     "output_type": "stream",
     "text": [
      "Number of requested results 50 is greater than number of elements in index 1, updating n_results = 1\n",
      "Number of requested results 50 is greater than number of elements in index 1, updating n_results = 1\n",
      "Number of requested results 50 is greater than number of elements in index 1, updating n_results = 1\n",
      "Number of requested results 50 is greater than number of elements in index 1, updating n_results = 1\n",
      "Number of requested results 50 is greater than number of elements in index 1, updating n_results = 1\n"
     ]
    },
    {
     "name": "stdout",
     "output_type": "stream",
     "text": [
      "Cleared collection 'eval_collection'\n",
      "Added 1 documents to ChromaDB collection\n"
     ]
    },
    {
     "name": "stderr",
     "output_type": "stream",
     "text": [
      "Number of requested results 50 is greater than number of elements in index 1, updating n_results = 1\n"
     ]
    },
    {
     "name": "stdout",
     "output_type": "stream",
     "text": [
      "Cleared collection 'eval_collection'\n",
      "Added 1 documents to ChromaDB collection\n"
     ]
    },
    {
     "name": "stderr",
     "output_type": "stream",
     "text": [
      "Number of requested results 50 is greater than number of elements in index 1, updating n_results = 1\n",
      "Number of requested results 50 is greater than number of elements in index 1, updating n_results = 1\n",
      "Number of requested results 50 is greater than number of elements in index 1, updating n_results = 1\n",
      "Number of requested results 50 is greater than number of elements in index 1, updating n_results = 1\n",
      "Number of requested results 50 is greater than number of elements in index 1, updating n_results = 1\n",
      "Number of requested results 50 is greater than number of elements in index 1, updating n_results = 1\n",
      "Number of requested results 50 is greater than number of elements in index 1, updating n_results = 1\n",
      "Number of requested results 50 is greater than number of elements in index 1, updating n_results = 1\n",
      "Number of requested results 50 is greater than number of elements in index 1, updating n_results = 1\n"
     ]
    },
    {
     "name": "stdout",
     "output_type": "stream",
     "text": [
      "Cleared collection 'eval_collection'\n",
      "Added 1 documents to ChromaDB collection\n"
     ]
    },
    {
     "name": "stderr",
     "output_type": "stream",
     "text": [
      "Number of requested results 50 is greater than number of elements in index 1, updating n_results = 1\n",
      "Number of requested results 50 is greater than number of elements in index 1, updating n_results = 1\n",
      "Number of requested results 50 is greater than number of elements in index 1, updating n_results = 1\n",
      "Number of requested results 50 is greater than number of elements in index 1, updating n_results = 1\n",
      "Number of requested results 50 is greater than number of elements in index 1, updating n_results = 1\n"
     ]
    },
    {
     "name": "stdout",
     "output_type": "stream",
     "text": [
      "Cleared collection 'eval_collection'\n",
      "Added 1 documents to ChromaDB collection\n"
     ]
    },
    {
     "name": "stderr",
     "output_type": "stream",
     "text": [
      "Number of requested results 50 is greater than number of elements in index 1, updating n_results = 1\n",
      "Number of requested results 50 is greater than number of elements in index 1, updating n_results = 1\n",
      "Number of requested results 50 is greater than number of elements in index 1, updating n_results = 1\n"
     ]
    },
    {
     "name": "stdout",
     "output_type": "stream",
     "text": [
      "Cleared collection 'eval_collection'\n",
      "Added 1 documents to ChromaDB collection\n"
     ]
    },
    {
     "name": "stderr",
     "output_type": "stream",
     "text": [
      "Number of requested results 50 is greater than number of elements in index 1, updating n_results = 1\n",
      "Number of requested results 50 is greater than number of elements in index 1, updating n_results = 1\n",
      "Number of requested results 50 is greater than number of elements in index 1, updating n_results = 1\n"
     ]
    },
    {
     "name": "stdout",
     "output_type": "stream",
     "text": [
      "Cleared collection 'eval_collection'\n",
      "Added 1 documents to ChromaDB collection\n"
     ]
    },
    {
     "name": "stderr",
     "output_type": "stream",
     "text": [
      "Number of requested results 50 is greater than number of elements in index 1, updating n_results = 1\n",
      "Number of requested results 50 is greater than number of elements in index 1, updating n_results = 1\n",
      "Number of requested results 50 is greater than number of elements in index 1, updating n_results = 1\n",
      "Number of requested results 50 is greater than number of elements in index 1, updating n_results = 1\n",
      "Number of requested results 50 is greater than number of elements in index 1, updating n_results = 1\n",
      "Number of requested results 50 is greater than number of elements in index 1, updating n_results = 1\n",
      "Number of requested results 50 is greater than number of elements in index 1, updating n_results = 1\n",
      "Number of requested results 50 is greater than number of elements in index 1, updating n_results = 1\n",
      "Number of requested results 50 is greater than number of elements in index 1, updating n_results = 1\n"
     ]
    },
    {
     "name": "stdout",
     "output_type": "stream",
     "text": [
      "Cleared collection 'eval_collection'\n",
      "Added 1 documents to ChromaDB collection\n"
     ]
    },
    {
     "name": "stderr",
     "output_type": "stream",
     "text": [
      "Number of requested results 50 is greater than number of elements in index 1, updating n_results = 1\n",
      "Number of requested results 50 is greater than number of elements in index 1, updating n_results = 1\n",
      "Number of requested results 50 is greater than number of elements in index 1, updating n_results = 1\n",
      "Number of requested results 50 is greater than number of elements in index 1, updating n_results = 1\n",
      "Number of requested results 50 is greater than number of elements in index 1, updating n_results = 1\n"
     ]
    },
    {
     "name": "stdout",
     "output_type": "stream",
     "text": [
      "Cleared collection 'eval_collection'\n",
      "Added 1 documents to ChromaDB collection\n"
     ]
    },
    {
     "name": "stderr",
     "output_type": "stream",
     "text": [
      "Number of requested results 50 is greater than number of elements in index 1, updating n_results = 1\n",
      "Number of requested results 50 is greater than number of elements in index 1, updating n_results = 1\n",
      "Number of requested results 50 is greater than number of elements in index 1, updating n_results = 1\n",
      "Number of requested results 50 is greater than number of elements in index 1, updating n_results = 1\n",
      "Number of requested results 50 is greater than number of elements in index 1, updating n_results = 1\n"
     ]
    },
    {
     "name": "stdout",
     "output_type": "stream",
     "text": [
      "Cleared collection 'eval_collection'\n",
      "Added 1 documents to ChromaDB collection\n"
     ]
    },
    {
     "name": "stderr",
     "output_type": "stream",
     "text": [
      "Number of requested results 50 is greater than number of elements in index 1, updating n_results = 1\n",
      "Number of requested results 50 is greater than number of elements in index 1, updating n_results = 1\n",
      "Number of requested results 50 is greater than number of elements in index 1, updating n_results = 1\n",
      "Number of requested results 50 is greater than number of elements in index 1, updating n_results = 1\n",
      "Number of requested results 50 is greater than number of elements in index 1, updating n_results = 1\n"
     ]
    },
    {
     "name": "stdout",
     "output_type": "stream",
     "text": [
      "Cleared collection 'eval_collection'\n",
      "Added 1 documents to ChromaDB collection\n"
     ]
    },
    {
     "name": "stderr",
     "output_type": "stream",
     "text": [
      "Number of requested results 50 is greater than number of elements in index 1, updating n_results = 1\n",
      "Number of requested results 50 is greater than number of elements in index 1, updating n_results = 1\n",
      "Number of requested results 50 is greater than number of elements in index 1, updating n_results = 1\n",
      "Number of requested results 50 is greater than number of elements in index 1, updating n_results = 1\n",
      "Number of requested results 50 is greater than number of elements in index 1, updating n_results = 1\n"
     ]
    },
    {
     "name": "stdout",
     "output_type": "stream",
     "text": [
      "Cleared collection 'eval_collection'\n",
      "Added 1 documents to ChromaDB collection\n"
     ]
    },
    {
     "name": "stderr",
     "output_type": "stream",
     "text": [
      "Number of requested results 50 is greater than number of elements in index 1, updating n_results = 1\n",
      "Number of requested results 50 is greater than number of elements in index 1, updating n_results = 1\n",
      "Number of requested results 50 is greater than number of elements in index 1, updating n_results = 1\n",
      "Number of requested results 50 is greater than number of elements in index 1, updating n_results = 1\n",
      "Number of requested results 50 is greater than number of elements in index 1, updating n_results = 1\n"
     ]
    },
    {
     "name": "stdout",
     "output_type": "stream",
     "text": [
      "Cleared collection 'eval_collection'\n",
      "Added 1 documents to ChromaDB collection\n",
      "Cleared collection 'eval_collection'\n"
     ]
    },
    {
     "name": "stderr",
     "output_type": "stream",
     "text": [
      "Number of requested results 50 is greater than number of elements in index 1, updating n_results = 1\n",
      "Number of requested results 50 is greater than number of elements in index 1, updating n_results = 1\n",
      "Number of requested results 50 is greater than number of elements in index 1, updating n_results = 1\n",
      "Number of requested results 50 is greater than number of elements in index 1, updating n_results = 1\n",
      "Number of requested results 50 is greater than number of elements in index 1, updating n_results = 1\n"
     ]
    },
    {
     "name": "stdout",
     "output_type": "stream",
     "text": [
      "Added 1 documents to ChromaDB collection\n"
     ]
    },
    {
     "name": "stderr",
     "output_type": "stream",
     "text": [
      "Number of requested results 50 is greater than number of elements in index 1, updating n_results = 1\n",
      "Number of requested results 50 is greater than number of elements in index 1, updating n_results = 1\n",
      "Number of requested results 50 is greater than number of elements in index 1, updating n_results = 1\n",
      "Number of requested results 50 is greater than number of elements in index 1, updating n_results = 1\n",
      "Number of requested results 50 is greater than number of elements in index 1, updating n_results = 1\n"
     ]
    },
    {
     "name": "stdout",
     "output_type": "stream",
     "text": [
      "Cleared collection 'eval_collection'\n",
      "Added 1 documents to ChromaDB collection\n"
     ]
    },
    {
     "name": "stderr",
     "output_type": "stream",
     "text": [
      "Number of requested results 50 is greater than number of elements in index 1, updating n_results = 1\n",
      "Number of requested results 50 is greater than number of elements in index 1, updating n_results = 1\n",
      "Number of requested results 50 is greater than number of elements in index 1, updating n_results = 1\n",
      "Number of requested results 50 is greater than number of elements in index 1, updating n_results = 1\n",
      "Number of requested results 50 is greater than number of elements in index 1, updating n_results = 1\n"
     ]
    },
    {
     "name": "stdout",
     "output_type": "stream",
     "text": [
      "Cleared collection 'eval_collection'\n",
      "Added 1 documents to ChromaDB collection\n"
     ]
    },
    {
     "name": "stderr",
     "output_type": "stream",
     "text": [
      "Number of requested results 50 is greater than number of elements in index 1, updating n_results = 1\n",
      "Number of requested results 50 is greater than number of elements in index 1, updating n_results = 1\n",
      "Number of requested results 50 is greater than number of elements in index 1, updating n_results = 1\n",
      "Number of requested results 50 is greater than number of elements in index 1, updating n_results = 1\n",
      "Number of requested results 50 is greater than number of elements in index 1, updating n_results = 1\n"
     ]
    },
    {
     "name": "stdout",
     "output_type": "stream",
     "text": [
      "Cleared collection 'eval_collection'\n",
      "Added 1 documents to ChromaDB collection\n",
      "Cleared collection 'eval_collection'\n",
      "Added 1 documents to ChromaDB collection\n"
     ]
    },
    {
     "name": "stderr",
     "output_type": "stream",
     "text": [
      "Number of requested results 50 is greater than number of elements in index 1, updating n_results = 1\n",
      "Number of requested results 50 is greater than number of elements in index 1, updating n_results = 1\n",
      "Number of requested results 50 is greater than number of elements in index 1, updating n_results = 1\n",
      "Number of requested results 50 is greater than number of elements in index 1, updating n_results = 1\n",
      "Number of requested results 50 is greater than number of elements in index 1, updating n_results = 1\n",
      "Number of requested results 50 is greater than number of elements in index 1, updating n_results = 1\n"
     ]
    },
    {
     "name": "stdout",
     "output_type": "stream",
     "text": [
      "Cleared collection 'eval_collection'\n",
      "Added 1 documents to ChromaDB collection\n"
     ]
    },
    {
     "name": "stderr",
     "output_type": "stream",
     "text": [
      "Number of requested results 50 is greater than number of elements in index 1, updating n_results = 1\n",
      "Number of requested results 50 is greater than number of elements in index 1, updating n_results = 1\n",
      "Number of requested results 50 is greater than number of elements in index 1, updating n_results = 1\n",
      "Number of requested results 50 is greater than number of elements in index 1, updating n_results = 1\n"
     ]
    },
    {
     "name": "stdout",
     "output_type": "stream",
     "text": [
      "Calculating BERT Score...\n"
     ]
    },
    {
     "name": "stderr",
     "output_type": "stream",
     "text": [
      "Some weights of RobertaModel were not initialized from the model checkpoint at roberta-large and are newly initialized: ['roberta.pooler.dense.bias', 'roberta.pooler.dense.weight']\n",
      "You should probably TRAIN this model on a down-stream task to be able to use it for predictions and inference.\n"
     ]
    },
    {
     "name": "stdout",
     "output_type": "stream",
     "text": [
      "calculating scores...\n",
      "computing bert embedding.\n"
     ]
    },
    {
     "data": {
      "application/vnd.jupyter.widget-view+json": {
       "model_id": "3a42587b1456469b903f10ef39e16f87",
       "version_major": 2,
       "version_minor": 0
      },
      "text/plain": [
       "  0%|          | 0/1 [00:00<?, ?it/s]"
      ]
     },
     "metadata": {},
     "output_type": "display_data"
    },
    {
     "name": "stdout",
     "output_type": "stream",
     "text": [
      "computing greedy matching.\n"
     ]
    },
    {
     "data": {
      "application/vnd.jupyter.widget-view+json": {
       "model_id": "ad7411eb88bd46b59ed8557c37d719c4",
       "version_major": 2,
       "version_minor": 0
      },
      "text/plain": [
       "  0%|          | 0/1 [00:00<?, ?it/s]"
      ]
     },
     "metadata": {},
     "output_type": "display_data"
    },
    {
     "name": "stdout",
     "output_type": "stream",
     "text": [
      "done in 377915.48 seconds, 0.00 sentences/sec\n",
      "Average BERT Score Precision: 0.8327\n",
      "Average BERT Score Recall: 0.8442\n",
      "Average BERT Score F1: 0.8383\n"
     ]
    }
   ],
   "source": [
    "sci_results = evaluate_summarizer(\n",
    "    df=sci_df,\n",
    "    text_column='text',\n",
    "    reference_column='summary', \n",
    "    summary_length='short'\n",
    ")"
   ]
  },
  {
   "cell_type": "code",
   "execution_count": 18,
   "id": "a5c91464-5486-443c-9d39-491cee522ba3",
   "metadata": {},
   "outputs": [],
   "source": [
    "sci_results.to_csv('results/science_abstractive_summarization.csv', index=False)"
   ]
  },
  {
   "cell_type": "markdown",
   "id": "b9c6d5de-e9e1-4d0f-ae0c-4d56490649dc",
   "metadata": {},
   "source": [
    "- Average BERT Score Precision: 0.8327 (how well the generated tokens are matched/covered by the reference tokens on average.)\n",
    "- Average BERT Score Recall: 0.8442 (how well the reference tokens are covered/matched by the generated tokens on average)\n",
    "- Average BERT Score F1: 0.8383"
   ]
  },
  {
   "cell_type": "code",
   "execution_count": null,
   "id": "ededbad3-a982-4c2b-8c12-b4a34c8de32b",
   "metadata": {},
   "outputs": [],
   "source": []
  }
 ],
 "metadata": {
  "kernelspec": {
   "display_name": "Python 3 (ipykernel)",
   "language": "python",
   "name": "python3"
  },
  "language_info": {
   "codemirror_mode": {
    "name": "ipython",
    "version": 3
   },
   "file_extension": ".py",
   "mimetype": "text/x-python",
   "name": "python",
   "nbconvert_exporter": "python",
   "pygments_lexer": "ipython3",
   "version": "3.11.11"
  }
 },
 "nbformat": 4,
 "nbformat_minor": 5
}
